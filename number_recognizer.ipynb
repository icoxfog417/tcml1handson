{
 "cells": [
  {
   "cell_type": "markdown",
   "metadata": {},
   "source": [
    "# Number Recognizer\n",
    "\n",
    "数字を認識するためのモデルを作成します。\n",
    "\n",
    "\n",
    "* [データロード](#Load-the-Data)\n",
    "* [モデル構築](#Create-the-Model)\n",
    "* [学習](#Training-the-Model)\n",
    "* [評価](#Evaluate-the-Model)\n",
    "* [保存](#Store-the-Model)\n"
   ]
  },
  {
   "cell_type": "code",
   "execution_count": 7,
   "metadata": {
    "collapsed": true
   },
   "outputs": [],
   "source": [
    "# enable showing matplotlib image inline\n",
    "%matplotlib inline"
   ]
  },
  {
   "cell_type": "markdown",
   "metadata": {},
   "source": [
    "## Load the Data"
   ]
  },
  {
   "cell_type": "code",
   "execution_count": 2,
   "metadata": {
    "collapsed": false
   },
   "outputs": [
    {
     "name": "stdout",
     "output_type": "stream",
     "text": [
      "(1797, 64)\n"
     ]
    }
   ],
   "source": [
    "from sklearn import datasets\n",
    "digits = datasets.load_digits()\n",
    "\n",
    "print(digits.data.shape)\n"
   ]
  },
  {
   "cell_type": "markdown",
   "metadata": {},
   "source": [
    "## Create the Model"
   ]
  },
  {
   "cell_type": "code",
   "execution_count": 9,
   "metadata": {
    "collapsed": true
   },
   "outputs": [],
   "source": [
    "from sklearn import svm\n",
    "classifier = svm.SVC(C=100, gamma=0.0)"
   ]
  },
  {
   "cell_type": "markdown",
   "metadata": {},
   "source": [
    "## Training the Model"
   ]
  },
  {
   "cell_type": "code",
   "execution_count": 10,
   "metadata": {
    "collapsed": false
   },
   "outputs": [
    {
     "data": {
      "text/plain": [
       "SVC(C=100, cache_size=200, class_weight=None, coef0=0.0, degree=3, gamma=0.0,\n",
       "  kernel='rbf', max_iter=-1, probability=False, random_state=None,\n",
       "  shrinking=True, tol=0.001, verbose=False)"
      ]
     },
     "execution_count": 10,
     "metadata": {},
     "output_type": "execute_result"
    }
   ],
   "source": [
    "from sklearn import cross_validation\n",
    "from collections import namedtuple\n",
    "\n",
    "DataSet = namedtuple(\"DataSet\", [\"data\", \"target\"])\n",
    "\n",
    "test_size = 0.3  # use 30% of data to test the model\n",
    "d_train, d_test, t_train, t_test = cross_validation.train_test_split(digits.data, digits.target, test_size=test_size, random_state=0)\n",
    "\n",
    "training_set = DataSet(d_train, t_train)\n",
    "test_set = DataSet(d_test, t_test)\n",
    "\n",
    "classifier.fit(training_set.data, training_set.target)"
   ]
  },
  {
   "cell_type": "markdown",
   "metadata": {},
   "source": [
    "## Evaluate the Model"
   ]
  },
  {
   "cell_type": "code",
   "execution_count": 5,
   "metadata": {
    "collapsed": false
   },
   "outputs": [
    {
     "name": "stdout",
     "output_type": "stream",
     "text": [
      "1.0\n",
      "0.516666666667\n"
     ]
    }
   ],
   "source": [
    "from sklearn import metrics\n",
    "\n",
    "def cal_accuracy(dset):\n",
    "    predicted = classifier.predict(dset.data)\n",
    "    score = metrics.accuracy_score(dset.target, predicted)\n",
    "    return score\n",
    "\n",
    "print(cal_accuracy(training_set))\n",
    "print(cal_accuracy(test_set))"
   ]
  },
  {
   "cell_type": "code",
   "execution_count": 11,
   "metadata": {
    "collapsed": false
   },
   "outputs": [
    {
     "data": {
      "text/plain": [
       "<matplotlib.text.Text at 0xc004ff0>"
      ]
     },
     "execution_count": 11,
     "metadata": {},
     "output_type": "execute_result"
    },
    {
     "data": {
      "image/png": "[encoded data removed]",
      "text/plain": [
       "<matplotlib.figure.Figure at 0xd19d9d0>"
      ]
     },
     "metadata": {},
     "output_type": "display_data"
    }
   ],
   "source": [
    "from sklearn.learning_curve import learning_curve\n",
    "import matplotlib.pyplot as plt\n",
    "import numpy as np\n",
    "\n",
    "interval = 100\n",
    "training_rates = [i/10 for i in range(1, 10)]\n",
    "\n",
    "train_sizes, train_scores, valid_scores = learning_curve(classifier, digits.data, digits.target, train_sizes=training_rates, cv=5)\n",
    "\n",
    "plt.plot(train_sizes, np.mean(train_scores, axis=1))\n",
    "plt.plot(train_sizes, np.mean(valid_scores, axis=1))\n",
    "plt.ylim(0, 1.1)\n",
    "plt.title(\"learning curve\")"
   ]
  },
  {
   "cell_type": "markdown",
   "metadata": {},
   "source": [
    "## Tuning the Model"
   ]
  },
  {
   "cell_type": "code",
   "execution_count": 40,
   "metadata": {
    "collapsed": false
   },
   "outputs": [
    {
     "name": "stdout",
     "output_type": "stream",
     "text": [
      "C = 1 :max validation score= 0.4649859943977591\n",
      "C = 10 :max validation score= 0.49859943977591037\n",
      "C = 100 :max validation score= 0.49859943977591037\n",
      "C = 1000 :max validation score= 0.49859943977591037\n"
     ]
    },
    {
     "data": {
      "image/png": "[encoded data removed]",
      "text/plain": [
       "<matplotlib.figure.Figure at 0xeb9f650>"
      ]
     },
     "metadata": {},
     "output_type": "display_data"
    }
   ],
   "source": [
    "from sklearn.learning_curve import learning_curve\n",
    "import numpy as np\n",
    "import matplotlib.pyplot as plt\n",
    "\n",
    "param_c = [1, 10, 100, 1000]\n",
    "training_sizes = [s / 10 for s in range(3, 9)]  # see between 30% ~ 90%\n",
    "\n",
    "for i, c in enumerate(param_c):\n",
    "    temp_clf = svm.SVC(C=c)\n",
    "    train_sizes, train_scores, valid_scores = learning_curve(temp_clf, digits.data, digits.target, train_sizes=training_sizes, cv=5)\n",
    "    \n",
    "    # show curves in 2 * 2 grid plot\n",
    "    plt.subplot(3, 2, i + 1)\n",
    "    plt.plot(train_sizes, np.mean(train_scores, axis=1))\n",
    "    plt.plot(train_sizes, np.mean(valid_scores, axis=1))\n",
    "    plt.ylim(0, 1.1)\n",
    "    plt.title(\"C = {0}\".format(c))\n",
    "    print(\"C = {0} :max validation score= {1}\".format(c, np.max(valid_scores)))\n",
    "    \n",
    "plt.tight_layout()\n"
   ]
  },
  {
   "cell_type": "markdown",
   "metadata": {},
   "source": [
    "## Store the Model"
   ]
  },
  {
   "cell_type": "code",
   "execution_count": 9,
   "metadata": {
    "collapsed": false
   },
   "outputs": [
    {
     "data": {
      "text/plain": [
       "['./machine.pkl',\n",
       " './machine.pkl_01.npy',\n",
       " './machine.pkl_02.npy',\n",
       " './machine.pkl_03.npy',\n",
       " './machine.pkl_04.npy',\n",
       " './machine.pkl_05.npy',\n",
       " './machine.pkl_06.npy',\n",
       " './machine.pkl_07.npy',\n",
       " './machine.pkl_08.npy',\n",
       " './machine.pkl_09.npy',\n",
       " './machine.pkl_10.npy',\n",
       " './machine.pkl_11.npy']"
      ]
     },
     "execution_count": 9,
     "metadata": {},
     "output_type": "execute_result"
    }
   ],
   "source": [
    "from sklearn.externals import joblib\n",
    "\n",
    "joblib.dump(classifier, \"./machine.pkl\") "
   ]
  },
  {
   "cell_type": "code",
   "execution_count": null,
   "metadata": {
    "collapsed": true
   },
   "outputs": [],
   "source": []
  }
 ],
 "metadata": {
  "kernelspec": {
   "display_name": "Python 3",
   "language": "python",
   "name": "python3"
  },
  "language_info": {
   "codemirror_mode": {
    "name": "ipython",
    "version": 3
   },
   "file_extension": ".py",
   "mimetype": "text/x-python",
   "name": "python",
   "nbconvert_exporter": "python",
   "pygments_lexer": "ipython3",
   "version": "3.4.3"
  }
 },
 "nbformat": 4,
 "nbformat_minor": 0
}

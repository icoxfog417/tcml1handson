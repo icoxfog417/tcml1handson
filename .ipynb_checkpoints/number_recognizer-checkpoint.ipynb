{
 "cells": [
  {
   "cell_type": "markdown",
   "metadata": {},
   "source": [
    "# Number Recognizer\n",
    "\n",
    "数字を認識するためのモデルを作成します。\n",
    "\n",
    "\n",
    "* [データロード](#Load-the-Data)\n",
    "* [モデル構築](#Create-the-Model)\n",
    "* [学習](#Training-the-Model)\n",
    "* [評価](#Evaluate-the-Model)\n",
    "* [保存](#Store-the-Model)\n"
   ]
  },
  {
   "cell_type": "code",
   "execution_count": 8,
   "metadata": {
    "collapsed": true
   },
   "outputs": [],
   "source": [
    "# enable showing matplotlib image inline\n",
    "%matplotlib inline"
   ]
  },
  {
   "cell_type": "markdown",
   "metadata": {},
   "source": [
    "## Load the Data"
   ]
  },
  {
   "cell_type": "code",
   "execution_count": 9,
   "metadata": {
    "collapsed": false
   },
   "outputs": [
    {
     "name": "stdout",
     "output_type": "stream",
     "text": [
      "(1797, 64)\n"
     ]
    }
   ],
   "source": [
    "from sklearn import datasets\n",
    "digits = datasets.load_digits()\n",
    "\n",
    "print(digits.data.shape)\n"
   ]
  },
  {
   "cell_type": "markdown",
   "metadata": {},
   "source": [
    "## Create the Model"
   ]
  },
  {
   "cell_type": "code",
   "execution_count": 153,
   "metadata": {
    "collapsed": true
   },
   "outputs": [],
   "source": [
    "from sklearn import svm\n",
    "\n",
    "create_model = lambda : svm.SVC(C=1, gamma=0.0001)\n",
    "classifier = create_model()"
   ]
  },
  {
   "cell_type": "markdown",
   "metadata": {},
   "source": [
    "## Training the Model"
   ]
  },
  {
   "cell_type": "code",
   "execution_count": 154,
   "metadata": {
    "collapsed": false
   },
   "outputs": [
    {
     "name": "stdout",
     "output_type": "stream",
     "text": [
      "(1257, 64)\n"
     ]
    },
    {
     "data": {
      "text/plain": [
       "SVC(C=1, cache_size=200, class_weight=None, coef0=0.0, degree=3, gamma=0.0001,\n",
       "  kernel='rbf', max_iter=-1, probability=False, random_state=None,\n",
       "  shrinking=True, tol=0.001, verbose=False)"
      ]
     },
     "execution_count": 154,
     "metadata": {},
     "output_type": "execute_result"
    }
   ],
   "source": [
    "from sklearn import cross_validation\n",
    "from collections import namedtuple\n",
    "\n",
    "DataSet = namedtuple(\"DataSet\", [\"data\", \"target\"])\n",
    "\n",
    "test_size = 0.3  # use 30% of data to test the model\n",
    "d_train, d_test, t_train, t_test = cross_validation.train_test_split(digits.data, digits.target, test_size=test_size, random_state=0)\n",
    "\n",
    "training_set = DataSet(d_train, t_train)\n",
    "test_set = DataSet(d_test, t_test)\n",
    "\n",
    "print(training_set.data.shape)\n",
    "\n",
    "classifier.fit(training_set.data, training_set.target)"
   ]
  },
  {
   "cell_type": "markdown",
   "metadata": {},
   "source": [
    "## Evaluate the Model"
   ]
  },
  {
   "cell_type": "code",
   "execution_count": 155,
   "metadata": {
    "collapsed": false
   },
   "outputs": [
    {
     "name": "stdout",
     "output_type": "stream",
     "text": [
      "0.9769291965\n",
      "0.974074074074\n"
     ]
    }
   ],
   "source": [
    "from sklearn import metrics\n",
    "\n",
    "def cal_accuracy(dset):\n",
    "    predicted = classifier.predict(dset.data)\n",
    "    score = metrics.accuracy_score(dset.target, predicted)\n",
    "    return score\n",
    "\n",
    "print(cal_accuracy(training_set))\n",
    "print(cal_accuracy(test_set))"
   ]
  },
  {
   "cell_type": "code",
   "execution_count": 156,
   "metadata": {
    "collapsed": false
   },
   "outputs": [
    {
     "name": "stdout",
     "output_type": "stream",
     "text": [
      "[ 0.96067416  0.97486034  0.98320896  0.98882682  0.98549107  0.98417132\n",
      "  0.98564593  0.9825419   0.98014888  0.98325893]\n",
      "[ 0.6862743   0.80744299  0.83023265  0.87200482  0.8881445   0.90540335\n",
      "  0.91486828  0.92210106  0.93155361  0.9360117 ]\n"
     ]
    },
    {
     "data": {
      "text/plain": [
       "<matplotlib.text.Text at 0x12bb2bf0>"
      ]
     },
     "execution_count": 156,
     "metadata": {},
     "output_type": "execute_result"
    },
    {
     "data": {
      "image/png": "[encoded data removed]",
      "text/plain": [
       "<matplotlib.figure.Figure at 0x13c0ae50>"
      ]
     },
     "metadata": {},
     "output_type": "display_data"
    }
   ],
   "source": [
    "from sklearn.learning_curve import learning_curve\n",
    "import matplotlib.pyplot as plt\n",
    "import numpy as np\n",
    "\n",
    "training_rates = [i / 10 for i in range(1, 11)]\n",
    "\n",
    "train_sizes, train_scores, valid_scores = learning_curve(create_model(), digits.data, digits.target, train_sizes=training_rates, cv=2)\n",
    "\n",
    "def print_and_plot(scores):\n",
    "    mean_scores = np.mean(scores, axis=1)\n",
    "    print(mean_scores)\n",
    "    plt.plot(train_sizes, mean_scores)\n",
    "\n",
    "print_and_plot(train_scores)\n",
    "print_and_plot(valid_scores)\n",
    "plt.ylim(0, 1.1)\n",
    "plt.title(\"learning curve\")"
   ]
  },
  {
   "cell_type": "markdown",
   "metadata": {},
   "source": [
    "## Tuning the Model"
   ]
  },
  {
   "cell_type": "code",
   "execution_count": 40,
   "metadata": {
    "collapsed": false
   },
   "outputs": [
    {
     "name": "stdout",
     "output_type": "stream",
     "text": [
      "C = 1 :max validation score= 0.4649859943977591\n",
      "C = 10 :max validation score= 0.49859943977591037\n",
      "C = 100 :max validation score= 0.49859943977591037\n",
      "C = 1000 :max validation score= 0.49859943977591037\n"
     ]
    },
    {
     "data": {
      "image/png": "[encoded data removed]",
      "text/plain": [
       "<matplotlib.figure.Figure at 0xeb9f650>"
      ]
     },
     "metadata": {},
     "output_type": "display_data"
    }
   ],
   "source": [
    "from sklearn.learning_curve import learning_curve\n",
    "import numpy as np\n",
    "import matplotlib.pyplot as plt\n",
    "\n",
    "param_c = [1, 10, 100, 1000]\n",
    "training_sizes = [s / 10 for s in range(3, 9)]  # see between 30% ~ 90%\n",
    "\n",
    "for i, c in enumerate(param_c):\n",
    "    temp_clf = svm.SVC(C=c)\n",
    "    train_sizes, train_scores, valid_scores = learning_curve(temp_clf, digits.data, digits.target, train_sizes=training_sizes, cv=5)\n",
    "    \n",
    "    # show curves in 2 * 2 grid plot\n",
    "    plt.subplot(3, 2, i + 1)\n",
    "    plt.plot(train_sizes, np.mean(train_scores, axis=1))\n",
    "    plt.plot(train_sizes, np.mean(valid_scores, axis=1))\n",
    "    plt.ylim(0, 1.1)\n",
    "    plt.title(\"C = {0}\".format(c))\n",
    "    print(\"C = {0} :max validation score= {1}\".format(c, np.max(valid_scores)))\n",
    "    \n",
    "plt.tight_layout()\n"
   ]
  },
  {
   "cell_type": "markdown",
   "metadata": {},
   "source": [
    "## Store the Model"
   ]
  },
  {
   "cell_type": "code",
   "execution_count": 9,
   "metadata": {
    "collapsed": false
   },
   "outputs": [
    {
     "data": {
      "text/plain": [
       "['./machine.pkl',\n",
       " './machine.pkl_01.npy',\n",
       " './machine.pkl_02.npy',\n",
       " './machine.pkl_03.npy',\n",
       " './machine.pkl_04.npy',\n",
       " './machine.pkl_05.npy',\n",
       " './machine.pkl_06.npy',\n",
       " './machine.pkl_07.npy',\n",
       " './machine.pkl_08.npy',\n",
       " './machine.pkl_09.npy',\n",
       " './machine.pkl_10.npy',\n",
       " './machine.pkl_11.npy']"
      ]
     },
     "execution_count": 9,
     "metadata": {},
     "output_type": "execute_result"
    }
   ],
   "source": [
    "from sklearn.externals import joblib\n",
    "\n",
    "joblib.dump(classifier, \"./machine.pkl\") "
   ]
  },
  {
   "cell_type": "code",
   "execution_count": null,
   "metadata": {
    "collapsed": true
   },
   "outputs": [],
   "source": []
  }
 ],
 "metadata": {
  "kernelspec": {
   "display_name": "Python 3",
   "language": "python",
   "name": "python3"
  }
 },
 "nbformat": 4,
 "nbformat_minor": 0
}
